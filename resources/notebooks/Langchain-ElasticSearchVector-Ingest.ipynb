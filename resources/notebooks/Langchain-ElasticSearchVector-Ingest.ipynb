{
 "cells": [
  {
   "attachments": {},
   "cell_type": "markdown",
   "id": "3420575b-4d00-458b-aa0e-7030008ccd53",
   "metadata": {
    "tags": []
   },
   "source": [
    "## Creating an index and populating it with documents using Elasticsearch\n",
    "\n",
    "Simple example on how to ingest PDF documents, then web pages content into an Elasticsearch VectorStore.\n",
    "\n",
    "Requirements:\n",
    "- A Elasticsearch cluster deployed on OpenShift\n"
   ]
  },
  {
   "cell_type": "code",
   "execution_count": null,
   "id": "863c9b00",
   "metadata": {},
   "outputs": [],
   "source": []
  },
  {
   "attachments": {},
   "cell_type": "markdown",
   "id": "8308b229-b520-4e82-a783-eb921bb955e7",
   "metadata": {
    "tags": []
   },
   "source": [
    "### Needed packages"
   ]
  },
  {
   "cell_type": "code",
   "execution_count": null,
   "id": "91e41b41-f60a-4b0f-91a1-cd273b60f21b",
   "metadata": {
    "tags": []
   },
   "outputs": [],
   "source": [
    "import subprocess\n",
    "import sys\n",
    "import os\n",
    "\n",
    "packages = [\n",
    "    \"pip install --upgrade pip\",\n",
    "    \"pip install accelerate\",\n",
    "    \"pip install elasticsearch\",\n",
    "    \"pip install huggingface\",\n",
    "    \"pip install langchain\",\n",
    "    \"pip install langchain_community\",\n",
    "    \"pip install langchain-huggingface\",\n",
    "    \"pip install openai\",\n",
    "    \"pip install pypdf\",\n",
    "    \"pip install sentence-transformers\",\n",
    "    \"pip install transformers\",\n",
    "    \"pip install torch\"\n",
    "]\n",
    "\n",
    "for pkg in packages:\n",
    "    subprocess.run(pkg, shell=True, stdout=subprocess.DEVNULL, stderr=subprocess.DEVNULL)"
   ]
  },
  {
   "attachments": {},
   "cell_type": "markdown",
   "id": "1a82063d-6153-4812-8977-042241736b53",
   "metadata": {},
   "source": [
    "### Base parameters, the Elasticsearch info"
   ]
  },
  {
   "cell_type": "code",
   "execution_count": null,
   "id": "417ed4a4-9418-4f48-bebd-ef0ea11ae434",
   "metadata": {
    "tags": []
   },
   "outputs": [],
   "source": [
    "import os as os\n",
    "product_version = 2.19\n",
    "CONNECTION_STRING = \"https://\" + os.environ.get('CONNECTION_STRING')\n",
    "USERNAME = \"elastic\"\n",
    "PASSWORD = os.environ.get('PASSWORD')\n",
    "COLLECTION_NAME = f\"rhoai-doc-{product_version}\"\n",
    "\n",
    "print(\"Connection String: \", CONNECTION_STRING, \" and Connection Password: \", PASSWORD)"
   ]
  },
  {
   "attachments": {},
   "cell_type": "markdown",
   "id": "daaea118-5ab1-4165-b735-8351dfbb81b9",
   "metadata": {},
   "source": [
    "### Verify Elasticsearch connection"
   ]
  },
  {
   "cell_type": "code",
   "execution_count": null,
   "id": "00d305e6",
   "metadata": {},
   "outputs": [],
   "source": [
    "# Check elasticsearch client version and ensure it is the same as the databsase\n",
    "!pip show elasticsearch"
   ]
  },
  {
   "cell_type": "code",
   "execution_count": null,
   "id": "bf81f73e-0a74-44d0-9131-f8571297b503",
   "metadata": {
    "tags": []
   },
   "outputs": [
    {
     "name": "stdout",
     "output_type": "stream",
     "text": [
      "Connected to Elasticsearch!\n"
     ]
    },
    {
     "name": "stderr",
     "output_type": "stream",
     "text": [
      "/opt/app-root/lib64/python3.8/site-packages/urllib3/connectionpool.py:1056: InsecureRequestWarning: Unverified HTTPS request is being made to host '172.30.120.82'. Adding certificate verification is strongly advised. See: https://urllib3.readthedocs.io/en/1.26.x/advanced-usage.html#ssl-warnings\n",
      "  warnings.warn(\n"
     ]
    }
   ],
   "source": [
    "from elasticsearch import Elasticsearch\n",
    "import sys as sys\n",
    "\n",
    "es = Elasticsearch(\n",
    "    CONNECTION_STRING,\n",
    "    basic_auth=(USERNAME, PASSWORD),\n",
    "    verify_certs=False\n",
    ")\n",
    "\n",
    "if es.ping():\n",
    "    print(\"Connected to Elasticsearch!\")\n",
    "else:\n",
    "    print(\"Could not connect to Elasticsearch. Terminating execution of notebook.\")\n",
    "    #Terminating execution\n",
    "    sys.exit()"
   ]
  },
  {
   "attachments": {},
   "cell_type": "markdown",
   "id": "9b499a49-128c-4be5-903b-76c40771c7bc",
   "metadata": {
    "tags": []
   },
   "source": [
    "#### Imports"
   ]
  },
  {
   "cell_type": "code",
   "execution_count": null,
   "id": "600cd763-6ecc-4c77-89c0-47108c31c44e",
   "metadata": {
    "tags": []
   },
   "outputs": [],
   "source": [
    "from langchain.document_loaders import PyPDFDirectoryLoader, WebBaseLoader\n",
    "from langchain.text_splitter import RecursiveCharacterTextSplitter\n",
    "from langchain.embeddings.huggingface import HuggingFaceEmbeddings"
   ]
  },
  {
   "attachments": {},
   "cell_type": "markdown",
   "id": "f68f6785-480e-4519-be4f-8e1738dba4ca",
   "metadata": {},
   "source": [
    "## Initial index creation and document ingestion"
   ]
  },
  {
   "attachments": {},
   "cell_type": "markdown",
   "id": "f8cff5f7-c509-48db-90b5-e15815b8b530",
   "metadata": {},
   "source": [
    "#### Download and load pdfs"
   ]
  },
  {
   "cell_type": "code",
   "execution_count": null,
   "id": "bc4fe0db-f494-4cbd-9e97-8b6359a78cb7",
   "metadata": {
    "tags": []
   },
   "outputs": [],
   "source": [
    "documents = []\n",
    "pdfs = []\n",
    "pdfs_to_urls = {}\n",
    "\n",
    "documents = [\n",
    "    \"release_notes\",\n",
    "    \"introduction_to_red_hat_openshift_ai\",\n",
    "    \"getting_started_with_red_hat_openshift_ai_self-managed\",\n",
    "    \"openshift_ai_tutorial_-_fraud_detection_example\",\n",
    "    \"working_with_data_in_an_s3-compatible_object_store\",\n",
    "    \"working_on_data_science_projects\",\n",
    "    \"working_in_your_data_science_ide\",\n",
    "    \"working_with_data_science_pipelines\",\n",
    "    \"monitoring_data_science_models\",\n",
    "    \"working_with_distributed_workloads\",\n",
    "    \"working_with_connected_applications\",\n",
    "    \"working_with_model_registries\",\n",
    "    \"serving_models\",\n",
    "    \"managing_resources\",\n",
    "    \"working_with_accelerators\",\n",
    "    \"managing_model_registries\",\n",
    "    \"installing_and_uninstalling_openshift_ai_self-managed\",\n",
    "    \"installing_and_uninstalling_openshift_ai_self-managed_in_a_disconnected_environment\",\n",
    "    \"upgrading_openshift_ai_self-managed\",\n",
    "    \"upgrading_openshift_ai_self-managed_in_a_disconnected_environment\",\n",
    "    \"managing_openshift_ai\",\n",
    "    \"configuring_the_model_registry_component\"\n",
    "]\n",
    "\n",
    "pdfs = [f\"https://access.redhat.com/documentation/en-us/red_hat_openshift_ai_self-managed/{product_version}/pdf/{doc}/red_hat_openshift_ai_self-managed-{product_version}-{doc}-en-us.pdf\" for doc in documents]\n",
    "pdfs_to_urls = {f\"red_hat_openshift_ai_self-managed-{product_version}-{doc}-en-us\": f\"https://access.redhat.com/documentation/en-us/red_hat_openshift_ai_self-managed/{product_version}/html-single/{doc}\" for doc in documents}\n",
    "\n",
    "# code for checking the pdf urls\n",
    "# for pdf in pdfs:\n",
    "#    print(pdf)\n",
    "# for pdfUrl in pdfs_to_urls:\n",
    "#    print(pdfUrl)"
   ]
  },
  {
   "cell_type": "code",
   "execution_count": null,
   "id": "3eea5acc-49df-41c9-a01a-0cdbca96e8e2",
   "metadata": {},
   "outputs": [],
   "source": [
    "import requests\n",
    "import os\n",
    "\n",
    "docs_dir = f\"rhoai-doc-{product_version}\"\n",
    "\n",
    "if not os.path.exists(docs_dir):\n",
    "    os.mkdir(docs_dir)\n",
    "\n",
    "for pdf in pdfs:\n",
    "    try:\n",
    "        response = requests.get(pdf)\n",
    "    except:\n",
    "        print(f\"Skipped {pdf}\")\n",
    "        continue\n",
    "    if response.status_code!=200:\n",
    "        print(f\"Skipped {pdf}\")\n",
    "        continue  \n",
    "    with open(f\"{docs_dir}/{pdf.split('/')[-1]}\", 'wb') as f:\n",
    "        f.write(response.content)"
   ]
  },
  {
   "cell_type": "code",
   "execution_count": null,
   "id": "af4074d4-eff4-45b2-902d-ec8c075a83ef",
   "metadata": {
    "tags": []
   },
   "outputs": [],
   "source": [
    "pdf_folder_path = f\"./rhoai-doc-{product_version}\"\n",
    "\n",
    "pdf_loader = PyPDFDirectoryLoader(pdf_folder_path)\n",
    "pdf_docs = pdf_loader.load()"
   ]
  },
  {
   "attachments": {},
   "cell_type": "markdown",
   "id": "cde7ed3a-0530-47a1-95c2-22db6c782a95",
   "metadata": {},
   "source": [
    "#### Inject metadata"
   ]
  },
  {
   "cell_type": "code",
   "execution_count": null,
   "id": "702230f6-e6d3-44c7-a643-4996387606ff",
   "metadata": {
    "tags": []
   },
   "outputs": [],
   "source": [
    "from pathlib import Path\n",
    "\n",
    "for doc in pdf_docs:\n",
    "    doc.metadata[\"source\"] = pdfs_to_urls[Path(doc.metadata[\"source\"]).stem]"
   ]
  },
  {
   "attachments": {},
   "cell_type": "markdown",
   "id": "dd511d44-2d92-47a0-9163-b25576c9557b",
   "metadata": {},
   "source": [
    "#### Load websites"
   ]
  },
  {
   "cell_type": "code",
   "execution_count": null,
   "id": "8aebf003-d7ec-43ba-8e04-1931bcff2866",
   "metadata": {
    "tags": []
   },
   "outputs": [],
   "source": [
    "websites = [\n",
    "    \"https://ai-on-openshift.io/getting-started/openshift/\",\n",
    "    \"https://ai-on-openshift.io/getting-started/opendatahub/\",\n",
    "    \"https://ai-on-openshift.io/getting-started/openshift-ai/\",\n",
    "    \"https://ai-on-openshift.io/odh-rhoai/configuration/\",\n",
    "    \"https://ai-on-openshift.io/odh-rhoai/custom-notebooks/\",\n",
    "    \"https://ai-on-openshift.io/odh-rhoai/nvidia-gpus/\",\n",
    "    \"https://ai-on-openshift.io/odh-rhoai/custom-runtime-triton/\",\n",
    "    \"https://ai-on-openshift.io/odh-rhoai/openshift-group-management/\",\n",
    "    \"https://ai-on-openshift.io/tools-and-applications/minio/minio/\",\n",
    "    \"https://access.redhat.com/articles/7047935\",\n",
    "    \"https://access.redhat.com/articles/rhoai-supported-configs\",\n",
    "]"
   ]
  },
  {
   "cell_type": "code",
   "execution_count": null,
   "id": "99f41110-8ca7-4d90-93b2-3b5021c894b8",
   "metadata": {
    "tags": []
   },
   "outputs": [],
   "source": [
    "website_loader = WebBaseLoader(websites)\n",
    "website_docs = website_loader.load()"
   ]
  },
  {
   "attachments": {},
   "cell_type": "markdown",
   "id": "157ddd29-54b3-474a-9b10-2d274bc3254f",
   "metadata": {},
   "source": [
    "#### Merge both types of docs"
   ]
  },
  {
   "cell_type": "code",
   "execution_count": null,
   "id": "8d361094-8b43-4351-8495-37628c35c42d",
   "metadata": {
    "tags": []
   },
   "outputs": [],
   "source": [
    "docs = pdf_docs + website_docs"
   ]
  },
  {
   "attachments": {},
   "cell_type": "markdown",
   "id": "4198fe0a-38bf-4cd4-af7d-35b41c645edd",
   "metadata": {},
   "source": [
    "#### Split documents into chunks with some overlap"
   ]
  },
  {
   "cell_type": "code",
   "execution_count": null,
   "id": "edba4a08-2194-4df1-9091-6f2b596757a1",
   "metadata": {
    "tags": []
   },
   "outputs": [],
   "source": [
    "text_splitter = RecursiveCharacterTextSplitter(chunk_size=1024,\n",
    "                                               chunk_overlap=40)\n",
    "all_splits = text_splitter.split_documents(docs)\n",
    "all_splits[0]"
   ]
  },
  {
   "attachments": {},
   "cell_type": "markdown",
   "id": "6884f070",
   "metadata": {},
   "source": [
    "#### Cleanup documents. Remove the NUL character, '\\x00', in TEXT fields."
   ]
  },
  {
   "cell_type": "code",
   "execution_count": null,
   "id": "5aefc08d-a4ad-4aad-9120-cfa98b67cbe2",
   "metadata": {
    "tags": []
   },
   "outputs": [],
   "source": [
    "for doc in all_splits:\n",
    "    doc.page_content = doc.page_content.replace('\\x00', '')"
   ]
  },
  {
   "attachments": {},
   "cell_type": "markdown",
   "id": "7ae7eae2-c670-4eb5-803b-b4d591fa83db",
   "metadata": {},
   "source": [
    "#### Create the index and ingest the documents"
   ]
  },
  {
   "cell_type": "code",
   "execution_count": null,
   "id": "bbb6a3e3-5ccd-441e-b80d-427555d9e9f6",
   "metadata": {
    "tags": []
   },
   "outputs": [],
   "source": [
    "from langchain.vectorstores import ElasticsearchStore\n",
    "from elasticsearch import Elasticsearch\n",
    "\n",
    "embeddings = HuggingFaceEmbeddings()\n",
    "\n",
    "es = Elasticsearch(\n",
    "    \"https://\" + CONNECTION_STRING,\n",
    "    basic_auth=(\"elastic\", PASSWORD),\n",
    "    verify_certs=False\n",
    ")\n",
    "\n",
    "db = ElasticsearchStore(\n",
    "    embedding=embeddings,\n",
    "    index_name=\"rhoai-docs\",\n",
    "    es_connection=es\n",
    ")\n",
    "\n",
    "db.add_documents(all_splits)"
   ]
  },
  {
   "attachments": {},
   "cell_type": "markdown",
   "id": "dae3b458-4979-46df-8493-7496764a2568",
   "metadata": {},
   "source": [
    "#### Test query"
   ]
  },
  {
   "cell_type": "code",
   "execution_count": null,
   "id": "489c6e6d-c42c-4de4-87cf-8edfd0e63da3",
   "metadata": {
    "tags": []
   },
   "outputs": [],
   "source": [
    "query = \"How can I work with GPU and taints in OpenShift AI?\"\n",
    "docs_with_score = db.similarity_search_with_score(query)"
   ]
  },
  {
   "cell_type": "code",
   "execution_count": null,
   "id": "90feeb37-7888-4c5f-a5cb-5f82637cec16",
   "metadata": {
    "tags": []
   },
   "outputs": [],
   "source": [
    "for doc, score in docs_with_score:\n",
    "    print(\"-\" * 80)\n",
    "    print(\"Score: \", score)\n",
    "    print(doc.page_content)\n",
    "    print(\"-\" * 80)"
   ]
  },
  {
   "cell_type": "code",
   "execution_count": null,
   "id": "ccbfc7a0-9da9-4061-a506-67466cbe84e0",
   "metadata": {},
   "outputs": [],
   "source": []
  }
 ],
 "metadata": {
  "kernelspec": {
   "display_name": "Python 3 (ipykernel)",
   "language": "python",
   "name": "python3"
  },
  "language_info": {
   "codemirror_mode": {
    "name": "ipython",
    "version": 3
   },
   "file_extension": ".py",
   "mimetype": "text/x-python",
   "name": "python",
   "nbconvert_exporter": "python",
   "pygments_lexer": "ipython3",
   "version": "3.12.3"
  }
 },
 "nbformat": 4,
 "nbformat_minor": 5
}
